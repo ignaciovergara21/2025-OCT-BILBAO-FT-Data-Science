{
 "cells": [
  {
   "cell_type": "markdown",
   "metadata": {},
   "source": [
    "![imagen](./img/ejercicios.png)"
   ]
  },
  {
   "cell_type": "markdown",
   "metadata": {},
   "source": [
    "# Ejercicios Flujos de control"
   ]
  },
  {
   "cell_type": "markdown",
   "metadata": {},
   "source": [
    "## Ejercicio Extra\n",
    "Programa una calculadora que\n",
    "\n",
    "* Pregunte qué operación quieres realizar (multiplicación/división/suma/resta/potencia/salir)\n",
    "* Pida dos números \n",
    "* Realice la operación\n",
    "* Siga funcionando hasta que el usuario elija salir\n",
    "\n",
    "#### Bonus:\n",
    "* Que guarde todas las operaciones realizadas y las imprima por pantalla cuando el usuario elija esa opción\n",
    "* Que sea robusta frente a entradas erróneas del usuario o frente a operaciones como dividir por 0"
   ]
  },
  {
   "cell_type": "code",
   "execution_count": 3,
   "metadata": {},
   "outputs": [],
   "source": [
    "import math\n",
    "import pprint\n",
    "import time"
   ]
  },
  {
   "cell_type": "code",
   "execution_count": null,
   "metadata": {},
   "outputs": [
    {
     "name": "stdout",
     "output_type": "stream",
     "text": [
      "Operación no encontrada:Intentalo de nuevo              (Suma, resta, multiplicacion, division, potencia o salir)\n",
      "2.0\n",
      "9.0\n",
      "Hasta pronto!\n"
     ]
    }
   ],
   "source": [
    "\n",
    "while True:\n",
    "    operacion = input(\"Que operacion deseas realizar?\")\n",
    "    if(operacion == \"salir\"):\n",
    "        print(\"Hasta pronto!\")\n",
    "        break\n",
    "    elif(operacion != \"multiplicacion\" and operacion != \"division\" and operacion != \"suma\"\\\n",
    "         and operacion != \"resta\" and operacion != \"potencia\"):\n",
    "        print(\"Operación no encontrada:Intentalo de nuevo\\\n",
    "              (Suma, resta, multiplicacion, division, potencia o salir)\")\n",
    "    else:\n",
    "        num1 = float(input(\"Numero 1:\"))\n",
    "        num2 = float(input(\"Numero 2:\"))\n",
    "\n",
    "        match operacion.lower():\n",
    "            case \"multiplicacion\":\n",
    "                resultado = num1 * num2\n",
    "            case \"division\":\n",
    "                resultado = num1 / num2\n",
    "            case \"suma\":\n",
    "                resultado = num1 + num2\n",
    "            case \"resta\":\n",
    "                resultado = num1 - num2\n",
    "            case \"potencia\":\n",
    "                resultado = num1 * num2\n",
    "            \n",
    "        print(resultado)\n"
   ]
  },
  {
   "cell_type": "code",
   "execution_count": null,
   "metadata": {},
   "outputs": [],
   "source": []
  }
 ],
 "metadata": {
  "kernelspec": {
   "display_name": "Python 3",
   "language": "python",
   "name": "python3"
  },
  "language_info": {
   "codemirror_mode": {
    "name": "ipython",
    "version": 3
   },
   "file_extension": ".py",
   "mimetype": "text/x-python",
   "name": "python",
   "nbconvert_exporter": "python",
   "pygments_lexer": "ipython3",
   "version": "3.11.9"
  }
 },
 "nbformat": 4,
 "nbformat_minor": 4
}
