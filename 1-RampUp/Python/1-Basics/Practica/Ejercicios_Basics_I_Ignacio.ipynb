{
 "cells": [
  {
   "cell_type": "markdown",
   "metadata": {},
   "source": [
    "![imagen](./img/ejercicios.png)"
   ]
  },
  {
   "cell_type": "markdown",
   "metadata": {},
   "source": [
    "# Ejercicios Python Basics I"
   ]
  },
  {
   "cell_type": "markdown",
   "metadata": {},
   "source": [
    "## Ejercicio 0\n",
    "Imprime por pantalla esta cita con el siguiente formato\n",
    "\n",
    "![imagen](./img/frase_Einstein.PNG)"
   ]
  },
  {
   "cell_type": "code",
   "execution_count": 1,
   "metadata": {},
   "outputs": [
    {
     "name": "stdout",
     "output_type": "stream",
     "text": [
      "¿Por qué esta magnífica tecnología científica,\n",
      "    que ahorra trabajo y nos hace la vida más fácil, \n",
      "        nos aporta tan poca felicidad? \n",
      "            La respuesta es ésta, simplemente: porque aún no hemos aprendido a usarla con tino. \n",
      "    \"Albert Einstein\"\n"
     ]
    }
   ],
   "source": [
    "print(\"¿Por qué esta magnífica tecnología científica,\\n\\\n",
    "    que ahorra trabajo y nos hace la vida más fácil, \\n\\\n",
    "        nos aporta tan poca felicidad? \\n\\\n",
    "            La respuesta es ésta, simplemente: porque aún no hemos aprendido a usarla con tino. \\n\\\n",
    "    \\\"Albert Einstein\\\"\")"
   ]
  },
  {
   "cell_type": "markdown",
   "metadata": {},
   "source": [
    "## Ejercicio 1\n",
    "1. Escribe el nombre de la calle de tu domicilio en una variable\n",
    "2. Escribe el numero de la calle en otra\n",
    "3. Ciudad en una tercera\n",
    "4. Codigo postal en la cuarta variable\n",
    "5. Imprime las 4 variables concatenadas por pantalla\n",
    "6. Crea una quinta variable que concatene todas ellas\n",
    "7. Imprímela por pantalla"
   ]
  },
  {
   "cell_type": "code",
   "execution_count": 2,
   "metadata": {},
   "outputs": [
    {
     "name": "stdout",
     "output_type": "stream",
     "text": [
      "Maximo Aguirre 14 Bilbao 48011\n"
     ]
    }
   ],
   "source": [
    "mi_calle = \"Maximo Aguirre\"\n",
    "num_calle = 14\n",
    "mi_ciudad = \"Bilbao\"\n",
    "cp = 48011\n",
    "\n",
    "print(mi_calle, num_calle, mi_ciudad, cp)\n"
   ]
  },
  {
   "cell_type": "code",
   "execution_count": 4,
   "metadata": {},
   "outputs": [
    {
     "name": "stdout",
     "output_type": "stream",
     "text": [
      "Maximo Aguirre 14 Bilbao 48011 <class 'str'>\n"
     ]
    }
   ],
   "source": [
    "concatenacion = mi_calle + \" \" + str(num_calle) + \" \" + mi_ciudad + \" \" + str(cp)\n",
    "print(concatenacion, type(concatenacion))"
   ]
  },
  {
   "cell_type": "markdown",
   "metadata": {},
   "source": [
    "## Ejercicio 2\n",
    "Repite el ejercicio 1, pero pidiendo estos datos al usuario mediante un input(), imprimiendo a continuación la dirección completa"
   ]
  },
  {
   "cell_type": "code",
   "execution_count": 5,
   "metadata": {},
   "outputs": [
    {
     "name": "stdout",
     "output_type": "stream",
     "text": [
      "ta 4 re 4\n"
     ]
    }
   ],
   "source": [
    "calle = input(\"Escribe tu dirección:\\nNombre Calle:\")\n",
    "numero = input(\"Número:\")\n",
    "ciudad = input(\"Ciudad:\")\n",
    "cp = input(\"Codigo postal:\")\n",
    "\n",
    "print(calle, numero, ciudad, cp)\n",
    "\n",
    "\n"
   ]
  },
  {
   "cell_type": "markdown",
   "metadata": {},
   "source": [
    "## Ejercicio 3\n",
    "¿Qué variables están mal escritas y por qué? Realiza primero tu hipótesis y luego ejecuta las variables para comprobarlo. En ese orden :)\n",
    "\n",
    "\n",
    "1. mi_variable = \"Economía\"\n",
    "2. otra_var = \"Ejercicio\n",
    "3. True = \"Ejercicio\"\n",
    "4. mi variab1e = \"Alpha\"\n",
    "5. import = 40\n",
    "6. 81mi_variable = \"Agua\"\n",
    "7. mi_variable10 = 6"
   ]
  },
  {
   "cell_type": "markdown",
   "metadata": {},
   "source": []
  },
  {
   "cell_type": "code",
   "execution_count": 17,
   "metadata": {},
   "outputs": [],
   "source": [
    "# La 2 le falta el cierre de \"\"\n",
    "# La 3tiene un una palabra reservada en el nombre\n",
    "# La 4 tiene un espacio el nombre\n",
    "# La 5 contiene una palabra reservada en el nombre\n",
    "# La 6 contiene un numero en el inicio del nombre\n",
    "\n"
   ]
  },
  {
   "cell_type": "markdown",
   "metadata": {},
   "source": [
    "## Ejercicio 4\n",
    "Realiza un conversor de grados Celsius a Fahrenheit. El conversor tiene que recibir el input del usuario y devolver la conversión.\n",
    "\n",
    "La conversión de grados sigue la siguiente fórmula: F = C × (9 / 5) + 32 "
   ]
  },
  {
   "cell_type": "code",
   "execution_count": 7,
   "metadata": {},
   "outputs": [
    {
     "ename": "ValueError",
     "evalue": "could not convert string to float: 'a'",
     "output_type": "error",
     "traceback": [
      "\u001b[31m---------------------------------------------------------------------------\u001b[39m",
      "\u001b[31mValueError\u001b[39m                                Traceback (most recent call last)",
      "\u001b[36mCell\u001b[39m\u001b[36m \u001b[39m\u001b[32mIn[7]\u001b[39m\u001b[32m, line 1\u001b[39m\n\u001b[32m----> \u001b[39m\u001b[32m1\u001b[39m celsius = \u001b[38;5;28;43mfloat\u001b[39;49m\u001b[43m(\u001b[49m\u001b[38;5;28;43minput\u001b[39;49m\u001b[43m(\u001b[49m\u001b[33;43m\"\u001b[39;49m\u001b[33;43mIntroduce la cantidad en celsius\u001b[39;49m\u001b[33;43m\"\u001b[39;49m\u001b[43m)\u001b[49m\u001b[43m)\u001b[49m\n\u001b[32m      2\u001b[39m farenheit  = celsius * (\u001b[32m9\u001b[39m / \u001b[32m5\u001b[39m) + \u001b[32m32\u001b[39m \n\u001b[32m      3\u001b[39m \u001b[38;5;28mprint\u001b[39m(\u001b[33m\"\u001b[39m\u001b[33mTu cantidad celsius equivale a\u001b[39m\u001b[33m\"\u001b[39m, farenheit, \u001b[33m\"\u001b[39m\u001b[33mfarenheit\u001b[39m\u001b[33m\"\u001b[39m)\n",
      "\u001b[31mValueError\u001b[39m: could not convert string to float: 'a'"
     ]
    }
   ],
   "source": [
    "celsius = float(input(\"Introduce la cantidad en celsius\"))\n",
    "farenheit  = celsius * (9 / 5) + 32 \n",
    "print(\"Tu cantidad celsius equivale a\", farenheit, \"farenheit\")"
   ]
  },
  {
   "cell_type": "markdown",
   "metadata": {},
   "source": [
    "## Ejercicio 5\n",
    "Comenta  el Ejercicio 4. Pon un comentario multilinea y haz comentarios de cada linea de código"
   ]
  },
  {
   "cell_type": "code",
   "execution_count": 8,
   "metadata": {},
   "outputs": [
    {
     "name": "stdout",
     "output_type": "stream",
     "text": [
      "Tu cantidad celsius equivale a 96.8 farenheit\n"
     ]
    }
   ],
   "source": [
    "\"\"\"\n",
    "Vamos a convertir celsius a farenheit\n",
    "\"\"\"\n",
    "celsius = float(input(\"Introduce la cantidad en celsius\"))\n",
    "farenheit  = celsius * (9 / 5) + 32 \n",
    "print(\"Tu cantidad celsius equivale a\", farenheit, \"farenheit\")\n"
   ]
  },
  {
   "cell_type": "code",
   "execution_count": null,
   "metadata": {},
   "outputs": [],
   "source": []
  }
 ],
 "metadata": {
  "kernelspec": {
   "display_name": "Python 3",
   "language": "python",
   "name": "python3"
  },
  "language_info": {
   "codemirror_mode": {
    "name": "ipython",
    "version": 3
   },
   "file_extension": ".py",
   "mimetype": "text/x-python",
   "name": "python",
   "nbconvert_exporter": "python",
   "pygments_lexer": "ipython3",
   "version": "3.11.9"
  },
  "nbTranslate": {
   "displayLangs": [
    "*"
   ],
   "hotkey": "alt-t",
   "langInMainMenu": true,
   "sourceLang": "en",
   "targetLang": "fr",
   "useGoogleTranslate": true
  },
  "varInspector": {
   "cols": {
    "lenName": 16,
    "lenType": 16,
    "lenVar": 40
   },
   "kernels_config": {
    "python": {
     "delete_cmd_postfix": "",
     "delete_cmd_prefix": "del ",
     "library": "var_list.py",
     "varRefreshCmd": "print(var_dic_list())"
    },
    "r": {
     "delete_cmd_postfix": ") ",
     "delete_cmd_prefix": "rm(",
     "library": "var_list.r",
     "varRefreshCmd": "cat(var_dic_list()) "
    }
   },
   "types_to_exclude": [
    "module",
    "function",
    "builtin_function_or_method",
    "instance",
    "_Feature"
   ],
   "window_display": false
  }
 },
 "nbformat": 4,
 "nbformat_minor": 4
}
