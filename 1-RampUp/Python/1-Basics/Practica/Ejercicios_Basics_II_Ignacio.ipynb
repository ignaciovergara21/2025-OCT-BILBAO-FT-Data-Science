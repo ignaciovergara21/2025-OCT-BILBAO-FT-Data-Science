{
 "cells": [
  {
   "cell_type": "markdown",
   "metadata": {},
   "source": [
    "![imagen](./img/ejercicios.png)"
   ]
  },
  {
   "cell_type": "markdown",
   "metadata": {},
   "source": [
    "# Ejercicios Python Basics II"
   ]
  },
  {
   "cell_type": "markdown",
   "metadata": {},
   "source": [
    "## Ejercicio 1\n",
    "* Crea dos variables numericas: un `int` y un `float`\n",
    "* Comprueba sus tipos\n",
    "* Sumalas en otra nueva\n",
    "* ¿De qué tipo es la nueva variable?\n",
    "* Elimina las variables creadas"
   ]
  },
  {
   "cell_type": "code",
   "execution_count": 4,
   "metadata": {},
   "outputs": [
    {
     "name": "stdout",
     "output_type": "stream",
     "text": [
      "<class 'int'>\n",
      "<class 'float'>\n",
      "<class 'float'>\n"
     ]
    }
   ],
   "source": [
    "entero = 7\n",
    "decimal = 7.5\n",
    "print(type(entero))\n",
    "print(type(decimal))\n",
    "suma = entero + decimal\n",
    "print(type(suma))\n",
    "del entero,decimal,suma"
   ]
  },
  {
   "cell_type": "markdown",
   "metadata": {},
   "source": [
    "## Ejercicio 2\n",
    "Escribe un programa para pasar de grados a radianes. Hay que usar `input`. Recuerda que la conversión se realiza mediante\n",
    "\n",
    "$$radianes = grados*(pi/180)$$"
   ]
  },
  {
   "cell_type": "code",
   "execution_count": 8,
   "metadata": {},
   "outputs": [
    {
     "name": "stdout",
     "output_type": "stream",
     "text": [
      "0.6283185307179586\n"
     ]
    }
   ],
   "source": [
    "import math\n",
    "\n",
    "grados = float(input(\"Dame una cantidad de grados para convertir a radianes\"))\n",
    "radianes = grados*(math.pi/180)\n",
    "print(radianes)"
   ]
  },
  {
   "cell_type": "markdown",
   "metadata": {},
   "source": [
    "## Ejercicio 3\n",
    "Escribe un programa que calcule el area de un paralelogramo (base x altura). También con `input`"
   ]
  },
  {
   "cell_type": "code",
   "execution_count": 2,
   "metadata": {},
   "outputs": [
    {
     "name": "stdout",
     "output_type": "stream",
     "text": [
      "El area del paralelogramo es  42.0\n"
     ]
    }
   ],
   "source": [
    "base = float(input(\"Introduce la Base en formato numerico:\"))\n",
    "altura = float(input(\"Introduce la Altura en formato numerico:\"))\n",
    "paralelogramo = base*altura\n",
    "print(\"El area del paralelogramo es \", paralelogramo)"
   ]
  },
  {
   "cell_type": "markdown",
   "metadata": {},
   "source": [
    "## Ejercicio 4\n",
    "Tenemos las siguientes variables:\n",
    "\n",
    "```Python\n",
    "A = 4\n",
    "B = \"Text\"\n",
    "C = 4.1\n",
    "```\n",
    "\n",
    "Comprueba:\n",
    "1. Si A y B son equivalentes\n",
    "2. Si A y C NO son equivalentes\n",
    "3. Si A es mayor que C \n",
    "4. Si C es menor o igual que A\n",
    "5. Si B NO es equivalente a C"
   ]
  },
  {
   "cell_type": "code",
   "execution_count": 5,
   "metadata": {},
   "outputs": [
    {
     "name": "stdout",
     "output_type": "stream",
     "text": [
      "No lo son\n",
      "No son equivalentes\n",
      "No lo es\n",
      "No lo es\n",
      "No son equivalentes\n"
     ]
    }
   ],
   "source": [
    "A = 4\n",
    "B = \"Text\"\n",
    "C = 4.1\n",
    "\n",
    "if A == B:\n",
    "    print(\"Son iguales\")\n",
    "else:\n",
    "    print(\"No lo son\")\n",
    "\n",
    "if A != C:\n",
    "    print(\"No son equivalentes\")\n",
    "else:\n",
    "    print(\"Si lo son\")\n",
    "\n",
    "if A > C:\n",
    "    print(\"A es mayor que C\")\n",
    "else:\n",
    "    print(\"No lo es\")\n",
    "\n",
    "if C <= A:\n",
    "    print(\"C es menor o igual que A\")\n",
    "else:\n",
    "    print(\"No lo es\")\n",
    "\n",
    "if C != B:\n",
    "    print(\"No son equivalentes\")\n",
    "else:\n",
    "    print(\"Si lo son\")    \n"
   ]
  },
  {
   "cell_type": "code",
   "execution_count": 43,
   "metadata": {},
   "outputs": [
    {
     "name": "stdout",
     "output_type": "stream",
     "text": [
      "No lo son\n"
     ]
    }
   ],
   "source": [
    "if A == B:\n",
    "    print(\"Son iguales\")\n",
    "else:\n",
    "    print(\"No lo son\")"
   ]
  },
  {
   "cell_type": "markdown",
   "metadata": {},
   "source": [
    "## Ejercicio 5\n",
    "Crea un programa donde se recojan dos inputs del usuario, y el output del programa sea si esos inputs son iguales o no"
   ]
  },
  {
   "cell_type": "code",
   "execution_count": 7,
   "metadata": {},
   "outputs": [
    {
     "name": "stdout",
     "output_type": "stream",
     "text": [
      "5 y  5.0 NO son iguales\n"
     ]
    }
   ],
   "source": [
    "var1 = input(\"Introduce el primer dato a comparar\")\n",
    "var2 = input(\"Introduce el segundo dato a comparar\")\n",
    "\n",
    "if var1 == var2:\n",
    "    print(var1, \"y \", var2, \"son iguales\")\n",
    "else:\n",
    "    print(var1, \"y \", var2, \"NO son iguales\")\n",
    " \n"
   ]
  },
  {
   "cell_type": "markdown",
   "metadata": {},
   "source": [
    "## Ejercicio 6\n",
    "Mismo programa que en 5, pero en esta ocasión tienen que ser tres inputs y dos salidas. Una de las salidas que nos indique si todos son iguales, y la otra si al menos dos inputs sí que lo son"
   ]
  },
  {
   "cell_type": "code",
   "execution_count": 10,
   "metadata": {},
   "outputs": [
    {
     "name": "stdout",
     "output_type": "stream",
     "text": [
      "Los 3 son iguales\n"
     ]
    }
   ],
   "source": [
    "var1 = input(\"Introduce el primer dato a comparar\")\n",
    "var2 = input(\"Introduce el segundo dato a comparar\")\n",
    "var3 = input(\"Introduce el tercer dato a comparar\")\n",
    "\n",
    "\n",
    "if var1 == var2 and var2 == var3:\n",
    "    print(\"Los 3 son iguales\")\n",
    "elif var1 == var2 or var1 == var3 or var2 == var3:\n",
    "    print(\"2 son iguales\")\n",
    "else:\n",
    "    print(\"Todos distintos\")\n",
    "\n",
    " "
   ]
  },
  {
   "cell_type": "markdown",
   "metadata": {},
   "source": [
    "## Ejercicio 7\n",
    "Crea un programa que recoja dos inputs. Tiene que comprobar si su suma es igual, superior o inferior a 10, cada condición por separado"
   ]
  },
  {
   "cell_type": "code",
   "execution_count": 15,
   "metadata": {},
   "outputs": [
    {
     "ename": "ValueError",
     "evalue": "could not convert string to float: 'a'",
     "output_type": "error",
     "traceback": [
      "\u001b[31m---------------------------------------------------------------------------\u001b[39m",
      "\u001b[31mValueError\u001b[39m                                Traceback (most recent call last)",
      "\u001b[36mCell\u001b[39m\u001b[36m \u001b[39m\u001b[32mIn[15]\u001b[39m\u001b[32m, line 2\u001b[39m\n\u001b[32m      1\u001b[39m n1 = \u001b[38;5;28mfloat\u001b[39m(\u001b[38;5;28minput\u001b[39m(\u001b[33m\"\u001b[39m\u001b[33mIntroduce el primer numero\u001b[39m\u001b[33m\"\u001b[39m))\n\u001b[32m----> \u001b[39m\u001b[32m2\u001b[39m n2 = \u001b[38;5;28;43mfloat\u001b[39;49m\u001b[43m(\u001b[49m\u001b[38;5;28;43minput\u001b[39;49m\u001b[43m(\u001b[49m\u001b[33;43m\"\u001b[39;49m\u001b[33;43mIntroduce el segundo numero\u001b[39;49m\u001b[33;43m\"\u001b[39;49m\u001b[43m)\u001b[49m\u001b[43m)\u001b[49m\n\u001b[32m      4\u001b[39m suma = n1 + n2\n\u001b[32m      6\u001b[39m \u001b[38;5;28;01mif\u001b[39;00m suma == \u001b[32m10\u001b[39m:\n",
      "\u001b[31mValueError\u001b[39m: could not convert string to float: 'a'"
     ]
    }
   ],
   "source": [
    "n1 = float(input(\"Introduce el primer numero\"))\n",
    "n2 = float(input(\"Introduce el segundo numero\"))\n",
    "\n",
    "suma = n1 + n2\n",
    "\n",
    "if suma == 10:\n",
    "    print(\"La suma es igual a 10\")\n",
    "elif suma > 10:\n",
    "    print(\"La suma es mayor a 10\")\n",
    "elif suma < 10:\n",
    "    print(\"La suma es menor a 10\")\n",
    "else:\n",
    "    print(\"Operacion erronea\")\n",
    "\n"
   ]
  },
  {
   "attachments": {},
   "cell_type": "markdown",
   "metadata": {},
   "source": [
    "## Ejercicio 8\n",
    "Razona sin ejecutar código el output que obtendremos de las siguientes sentencias\n",
    "1. True and True and False\n",
    "2. not ((True or False) and (True or False))\n",
    "3. (False or False or False or True) and False\n",
    "4. not False and True and not True\n",
    "\n",
    "Compruébalo después con python"
   ]
  },
  {
   "cell_type": "markdown",
   "metadata": {},
   "source": [
    "1. False\n",
    "2. not (True) and (True) = False and True = False\n",
    "3. True and False = False\n",
    "4. True and True and False = False"
   ]
  },
  {
   "cell_type": "markdown",
   "metadata": {},
   "source": []
  },
  {
   "cell_type": "code",
   "execution_count": 20,
   "metadata": {},
   "outputs": [
    {
     "name": "stdout",
     "output_type": "stream",
     "text": [
      "False\n",
      "False\n",
      "False\n",
      "False\n"
     ]
    }
   ],
   "source": [
    "A =print(True and True and False)\n",
    "\n",
    "B =print( not ((True or False) and (True or False)))\n",
    "\n",
    "C =print( (False or False or False or True) and False)\n",
    "\n",
    "D =print( not False and True and not True)\n"
   ]
  },
  {
   "cell_type": "markdown",
   "metadata": {},
   "source": [
    "## Ejercicio 9\n",
    "Para este ejercicio vamos a poner en práctica [las funciones built in](https://docs.python.org/3/library/functions.html).\n",
    "\n",
    "1. Calcula el máximo de la lista: [4, 6, 8, -1]\n",
    "2. Suma todos los elementos de la lista anterior\n",
    "3. Redondea este float a 3 dígitos decimales: 63.451256965\n",
    "4. Valor absoluto de: -74"
   ]
  },
  {
   "cell_type": "code",
   "execution_count": 28,
   "metadata": {},
   "outputs": [
    {
     "name": "stdout",
     "output_type": "stream",
     "text": [
      "8\n",
      "17\n",
      "63.451\n",
      "74\n"
     ]
    }
   ],
   "source": [
    "tonta = [4, 6, 8, -1]\n",
    "print(max(tonta))\n",
    "print(sum(tonta))\n",
    "print(round(63.451256965, 3))\n",
    "print(abs(-74))"
   ]
  },
  {
   "cell_type": "markdown",
   "metadata": {},
   "source": [
    "## Ejercicio 10\n",
    "Para el siguiente string se pide imprimir por pantalla los siguientes casos\n",
    "\n",
    "    \"Lo primero de todo, cómo están los máquinas\"\n",
    "\n",
    "1. Pasarlo todo a mayúsculas\n",
    "2. Pasarlo todo a minúsculas\n",
    "3. Pasar a mayúsculas solo las iniciales de las palabras\n",
    "4. Crea una lista dividiendolo por sus espacios\n",
    "5. Sustituye las comas `,` por puntos y comas `;`\n",
    "6. Elimina las `a` minúsculas"
   ]
  },
  {
   "cell_type": "code",
   "execution_count": 43,
   "metadata": {},
   "outputs": [
    {
     "name": "stdout",
     "output_type": "stream",
     "text": [
      "LO PRIMERO DE TODO, CÓMO ESTÁN LOS MÁQUINAS\n",
      "lo primero de todo, cómo están los máquinas\n",
      "Lo Primero De Todo, Cómo Están Los Máquinas\n",
      "['Lo', 'primero', 'de', 'todo,', 'cómo', 'están', 'los', 'máquinas']\n",
      "Lo primero de todo, cómo estn los mquins\n"
     ]
    }
   ],
   "source": [
    "cadena = \"Lo primero de todo, cómo están los máquinas\"\n",
    "\n",
    "print(cadena.upper())\n",
    "print(cadena.lower())\n",
    "print(cadena.title())\n",
    "\n",
    "lista = cadena.split(\" \")\n",
    "print(lista)\n",
    "\n",
    "cadena.replace(\",\",\";\")\n",
    "texto = \"Lo primero de todo, cómo están los máquinas\"\n",
    "cadena_sin_a = cadena.replace(\"a\", \"\").replace(\"á\", \"\")\n",
    "print(cadena_sin_a)\n"
   ]
  },
  {
   "cell_type": "markdown",
   "metadata": {},
   "source": [
    "## Ejercicio 11\n",
    "1. Crea una lista con 3 elementos numéricos\n",
    "2. Añade un cuarto elemento\n",
    "3. Calcula la suma de todos\n",
    "4. Elimina el segundo elemento de la lista\n",
    "5. Añade otro elemento en la posicion 3 de la lista\n",
    "6. Crea otra lista con 4 elementos y concaténala a la que ya tenías."
   ]
  },
  {
   "cell_type": "code",
   "execution_count": 50,
   "metadata": {},
   "outputs": [
    {
     "name": "stdout",
     "output_type": "stream",
     "text": [
      "23 eliminado\n",
      "[11, 6, 'hola', 9]\n",
      "[11, 6, 'hola', 9, 'a', 'b', 'c', 'd']\n"
     ]
    }
   ],
   "source": [
    "numeritos = [11, 23, 6]\n",
    "numeritos.append(9)\n",
    "sum(numeritos)\n",
    "print(numeritos.pop(1), \"eliminado\")\n",
    "numeritos.insert(2, \"hola\")\n",
    "print(numeritos)\n",
    "letras = [\"a\", \"b\", \"c\", \"d\"]\n",
    "numeritos = numeritos + letras\n",
    "print(numeritos)"
   ]
  },
  {
   "cell_type": "code",
   "execution_count": null,
   "metadata": {},
   "outputs": [],
   "source": []
  }
 ],
 "metadata": {
  "kernelspec": {
   "display_name": "Python 3",
   "language": "python",
   "name": "python3"
  },
  "language_info": {
   "codemirror_mode": {
    "name": "ipython",
    "version": 3
   },
   "file_extension": ".py",
   "mimetype": "text/x-python",
   "name": "python",
   "nbconvert_exporter": "python",
   "pygments_lexer": "ipython3",
   "version": "3.11.9"
  },
  "nbTranslate": {
   "displayLangs": [
    "*"
   ],
   "hotkey": "alt-t",
   "langInMainMenu": true,
   "sourceLang": "en",
   "targetLang": "fr",
   "useGoogleTranslate": true
  },
  "varInspector": {
   "cols": {
    "lenName": 16,
    "lenType": 16,
    "lenVar": 40
   },
   "kernels_config": {
    "python": {
     "delete_cmd_postfix": "",
     "delete_cmd_prefix": "del ",
     "library": "var_list.py",
     "varRefreshCmd": "print(var_dic_list())"
    },
    "r": {
     "delete_cmd_postfix": ") ",
     "delete_cmd_prefix": "rm(",
     "library": "var_list.r",
     "varRefreshCmd": "cat(var_dic_list()) "
    }
   },
   "types_to_exclude": [
    "module",
    "function",
    "builtin_function_or_method",
    "instance",
    "_Feature"
   ],
   "window_display": false
  }
 },
 "nbformat": 4,
 "nbformat_minor": 4
}
